{
 "cells": [
  {
   "cell_type": "markdown",
   "metadata": {},
   "source": [
    "# Kaggle Dataset"
   ]
  },
  {
   "cell_type": "code",
   "execution_count": 1,
   "metadata": {},
   "outputs": [],
   "source": [
    "import numpy as np\n",
    "import pandas as pd\n",
    "import matplotlib.pyplot as plt"
   ]
  },
  {
   "cell_type": "code",
   "execution_count": 2,
   "metadata": {},
   "outputs": [],
   "source": [
    " # Выбор данных из большого объема данных\n",
    "from DatasetHandler import *"
   ]
  },
  {
   "cell_type": "code",
   "execution_count": null,
   "metadata": {},
   "outputs": [],
   "source": [
    "data = get_small(path=\"/Users/evgenii/DDoS Dataset/final_dataset.csv\",size=110000,random_state=42)"
   ]
  },
  {
   "cell_type": "code",
   "execution_count": null,
   "metadata": {},
   "outputs": [],
   "source": [
    "data.head()"
   ]
  },
  {
   "cell_type": "markdown",
   "metadata": {},
   "source": [
    "## Preprocessing"
   ]
  },
  {
   "cell_type": "code",
   "execution_count": null,
   "metadata": {},
   "outputs": [],
   "source": [
    "# Удаляем стобцы, в которых все значения одинаковые\n",
    "data = unique(data)\n",
    "data"
   ]
  },
  {
   "cell_type": "code",
   "execution_count": null,
   "metadata": {},
   "outputs": [],
   "source": [
    "data.info()"
   ]
  },
  {
   "cell_type": "markdown",
   "metadata": {},
   "source": [
    "### Correlations"
   ]
  },
  {
   "cell_type": "code",
   "execution_count": null,
   "metadata": {},
   "outputs": [],
   "source": [
    "features = data.columns.to_list()\n",
    "target = features.pop()"
   ]
  },
  {
   "cell_type": "code",
   "execution_count": null,
   "metadata": {},
   "outputs": [],
   "source": [
    "X = data.loc[:,features]\n",
    "y = data.loc[:,target]"
   ]
  },
  {
   "cell_type": "code",
   "execution_count": null,
   "metadata": {},
   "outputs": [],
   "source": [
    "cormap(X,\"All correlations\")"
   ]
  },
  {
   "cell_type": "code",
   "execution_count": null,
   "metadata": {},
   "outputs": [],
   "source": [
    "#Удалим коррелирующие признаки при помощи фреймворка FeatureSelector\n",
    "from feature_selector import FeatureSelector"
   ]
  },
  {
   "cell_type": "code",
   "execution_count": null,
   "metadata": {
    "scrolled": true
   },
   "outputs": [],
   "source": [
    "fs = FeatureSelector(data = X, labels = y)\n",
    "fs.identify_collinear(correlation_threshold = 0.80)"
   ]
  },
  {
   "cell_type": "markdown",
   "metadata": {},
   "source": [
    "## Важное дополнение\n",
    "При обучении модели, работающей с сетевыми данными не рекомендуется использовать IP-адреса, так как злоумышленник может подменить его, а модель придает IP-адресам большую значимость(см. old_model/). В модели нужно использовать только системные признаки(т. е. не зависящие от хакера)."
   ]
  },
  {
   "cell_type": "code",
   "execution_count": null,
   "metadata": {
    "scrolled": true
   },
   "outputs": [],
   "source": [
    "# список признаков для удаления\n",
    "ip_features = ['Flow ID','Src IP','Dst IP']\n",
    "collinear_features = fs.ops['collinear']\n",
    "collinear_features.extend(ip_features)\n",
    "X = X.drop(collinear_features,axis=1)\n",
    "X.head()"
   ]
  },
  {
   "cell_type": "code",
   "execution_count": null,
   "metadata": {},
   "outputs": [],
   "source": [
    "cormap(X,\"Without correlations\")"
   ]
  },
  {
   "cell_type": "code",
   "execution_count": null,
   "metadata": {},
   "outputs": [],
   "source": [
    "y =y.replace(\"ddos\",1).replace(\"Benign\",0)\n",
    "y.head()"
   ]
  },
  {
   "cell_type": "code",
   "execution_count": null,
   "metadata": {},
   "outputs": [],
   "source": [
    "df_data = get_small(path=\"/Users/evgenii/DDoS Dataset/final_dataset.csv\",size=200000,random_state=42)\n"
   ]
  },
  {
   "cell_type": "code",
   "execution_count": null,
   "metadata": {},
   "outputs": [],
   "source": [
    "df_data = unique(df_data)\n",
    "X_d = df_data.loc[:,features]\n",
    "y_d = df_data.loc[:,target]\n",
    "X_d = X_d.drop(collinear_features,axis=1)\n",
    "y_d =y_d.replace(\"ddos\",1).replace(\"Benign\",0)"
   ]
  },
  {
   "cell_type": "code",
   "execution_count": null,
   "metadata": {},
   "outputs": [],
   "source": [
    "X_not = X\n",
    "X_not_d = X_d"
   ]
  },
  {
   "cell_type": "markdown",
   "metadata": {},
   "source": [
    "## CatBoost"
   ]
  },
  {
   "cell_type": "markdown",
   "metadata": {},
   "source": [
    "### With categorial feature"
   ]
  },
  {
   "cell_type": "code",
   "execution_count": null,
   "metadata": {},
   "outputs": [],
   "source": [
    "from sklearn.model_selection import train_test_split\n",
    "from sklearn.metrics import roc_auc_score, roc_curve\n",
    "from sklearn.metrics import accuracy_score\n",
    "from catboost import CatBoostClassifier, Pool\n",
    "from catboost.utils import get_roc_curve\n"
   ]
  },
  {
   "cell_type": "code",
   "execution_count": null,
   "metadata": {},
   "outputs": [],
   "source": [
    "X_train, X_test, y_train, y_test = train_test_split(X, y, test_size=0.3, random_state=42)\n",
    "\n",
    "train_data = Pool(X_train,y_train,cat_features=[2])\n",
    "test_data = Pool(X_test,y_test,cat_features=[2])"
   ]
  },
  {
   "cell_type": "code",
   "execution_count": null,
   "metadata": {},
   "outputs": [],
   "source": [
    "tr_roc_auc = []\n",
    "test_roc_auc = []\n",
    "it_array = np.arange(50, 550, 25)\n",
    "\n",
    "for it in it_array:\n",
    "    cb = CatBoostClassifier(iterations=it,max_depth=3,learning_rate=0.1, loss_function='Logloss',verbose=False, thread_count= -1)\n",
    "    cb.fit(train_data)\n",
    "    tr_roc_auc.append(roc_auc_score(y_train,cb.predict_proba(X_train)[:,1]))\n",
    "    test_roc_auc.append(roc_auc_score(y_test,cb.predict_proba(X_test)[:,1]))\n",
    "    \n",
    "plot_auc_array(it_array,tr_roc_auc,test_roc_auc)"
   ]
  },
  {
   "cell_type": "code",
   "execution_count": null,
   "metadata": {},
   "outputs": [],
   "source": [
    "l_r_array = np.linspace(0.1, 0.8, 10)\n",
    "tr_roc_auc.clear()\n",
    "test_roc_auc.clear()\n",
    "\n",
    "for l in l_r_array:\n",
    "    cb = CatBoostClassifier(iterations=200,max_depth=3,learning_rate=l, loss_function='Logloss',verbose=False, thread_count= -1)\n",
    "    cb.fit(train_data)\n",
    "    tr_roc_auc.append(roc_auc_score(y_train,cb.predict_proba(X_train)[:,1]))\n",
    "    test_roc_auc.append(roc_auc_score(y_test,cb.predict_proba(X_test)[:,1]))\n",
    "    \n",
    "plot_auc_array(l_r_array,tr_roc_auc,test_roc_auc)"
   ]
  },
  {
   "cell_type": "code",
   "execution_count": null,
   "metadata": {},
   "outputs": [],
   "source": [
    "depth_array = np.arange(1,10,1)\n",
    "tr_roc_auc.clear()\n",
    "test_roc_auc.clear()\n",
    "\n",
    "for d in depth_array:\n",
    "    cb = CatBoostClassifier(iterations=200,max_depth=d,learning_rate=0.43, loss_function='Logloss',verbose=False, thread_count= -1)\n",
    "    cb.fit(train_data)\n",
    "    tr_roc_auc.append(roc_auc_score(y_train,cb.predict_proba(X_train)[:,1]))\n",
    "    test_roc_auc.append(roc_auc_score(y_test,cb.predict_proba(X_test)[:,1]))\n",
    "    \n",
    "plot_auc_array(depth_array,tr_roc_auc,test_roc_auc)"
   ]
  },
  {
   "cell_type": "code",
   "execution_count": null,
   "metadata": {},
   "outputs": [],
   "source": [
    "cat_all_model = CatBoostClassifier(iterations=200,\n",
    "                           depth=2,\n",
    "                           learning_rate=0.43,\n",
    "                           loss_function='Logloss',\n",
    "                           verbose=False)\n",
    "cat_all_model.fit(train_data, plot=True)"
   ]
  },
  {
   "cell_type": "markdown",
   "metadata": {},
   "source": [
    "Метрики для малой тестовой выборки"
   ]
  },
  {
   "cell_type": "code",
   "execution_count": null,
   "metadata": {},
   "outputs": [],
   "source": [
    "roc_auc_score(y_test, cat_all_model.predict_proba(X_test)[:,1])"
   ]
  },
  {
   "cell_type": "code",
   "execution_count": null,
   "metadata": {},
   "outputs": [],
   "source": [
    "accuracy_score(y_test, cat_all_model.predict(X_test))"
   ]
  },
  {
   "cell_type": "markdown",
   "metadata": {},
   "source": [
    "Метрики для большой тестовой выборки"
   ]
  },
  {
   "cell_type": "code",
   "execution_count": null,
   "metadata": {},
   "outputs": [],
   "source": [
    "roc_auc_score(y_d, cat_all_model.predict_proba(X_d)[:,1])"
   ]
  },
  {
   "cell_type": "code",
   "execution_count": null,
   "metadata": {},
   "outputs": [],
   "source": [
    "accuracy_score(y_d, cat_all_model.predict(X_d))"
   ]
  },
  {
   "cell_type": "code",
   "execution_count": null,
   "metadata": {
    "scrolled": true
   },
   "outputs": [],
   "source": [
    "import shap\n",
    "shap.initjs()"
   ]
  },
  {
   "cell_type": "code",
   "execution_count": null,
   "metadata": {},
   "outputs": [],
   "source": [
    "explainer = shap.TreeExplainer(cat_all_model)\n",
    "shap_values = explainer.shap_values(X_train)\n",
    "shap.summary_plot(shap_values, X_train)"
   ]
  },
  {
   "cell_type": "markdown",
   "metadata": {},
   "source": [
    "### Without categorial feature"
   ]
  },
  {
   "cell_type": "code",
   "execution_count": null,
   "metadata": {},
   "outputs": [],
   "source": [
    "X_not['Timestamp'] = X_not['Timestamp'].apply(toTimestamp)\n",
    "X_not_d['Timestamp'] = X_not_d['Timestamp'].apply(toTimestamp)"
   ]
  },
  {
   "cell_type": "code",
   "execution_count": null,
   "metadata": {},
   "outputs": [],
   "source": [
    "X_train, X_test, y_train, y_test = train_test_split(X_not, y, test_size=0.3, random_state=42)\n",
    "train_data = Pool(X_train,y_train)\n",
    "test_data = Pool(X_test,y_test)"
   ]
  },
  {
   "cell_type": "code",
   "execution_count": null,
   "metadata": {},
   "outputs": [],
   "source": [
    "tr_roc_auc = []\n",
    "test_roc_auc = []\n",
    "it_array = np.arange(50, 550, 25)\n",
    "\n",
    "for it in it_array:\n",
    "    cb = CatBoostClassifier(iterations=it,max_depth=3,learning_rate=0.1, loss_function='Logloss',verbose=False, thread_count= -1)\n",
    "    cb.fit(train_data)\n",
    "    tr_roc_auc.append(roc_auc_score(y_train,cb.predict_proba(X_train)[:,1]))\n",
    "    test_roc_auc.append(roc_auc_score(y_test,cb.predict_proba(X_test)[:,1]))\n",
    "\n",
    "plot_auc_array(it_array,tr_roc_auc,test_roc_auc)"
   ]
  },
  {
   "cell_type": "code",
   "execution_count": null,
   "metadata": {},
   "outputs": [],
   "source": [
    "l_r_array = np.linspace(0.1, 0.8, 10)\n",
    "tr_roc_auc.clear()\n",
    "test_roc_auc.clear()\n",
    "\n",
    "for l in l_r_array:\n",
    "    cb = CatBoostClassifier(iterations=200,max_depth=3,learning_rate=l, loss_function='Logloss',verbose=False, thread_count= -1)\n",
    "    cb.fit(train_data)\n",
    "    tr_roc_auc.append(roc_auc_score(y_train,cb.predict_proba(X_train)[:,1]))\n",
    "    test_roc_auc.append(roc_auc_score(y_test,cb.predict_proba(X_test)[:,1]))\n",
    "\n",
    "plot_auc_array(l_r_array,tr_roc_auc,test_roc_auc)"
   ]
  },
  {
   "cell_type": "code",
   "execution_count": null,
   "metadata": {},
   "outputs": [],
   "source": [
    "depth_array = np.arange(1,10,1)\n",
    "tr_roc_auc.clear()\n",
    "test_roc_auc.clear()\n",
    "\n",
    "for d in depth_array:\n",
    "    cb = CatBoostClassifier(iterations=200,max_depth=d,learning_rate=0.43, loss_function='Logloss',verbose=False, thread_count= -1)\n",
    "    cb.fit(train_data)\n",
    "    tr_roc_auc.append(roc_auc_score(y_train,cb.predict_proba(X_train)[:,1]))\n",
    "    test_roc_auc.append(roc_auc_score(y_test,cb.predict_proba(X_test)[:,1]))\n",
    "\n",
    "plot_auc_array(depth_array,tr_roc_auc,test_roc_auc)"
   ]
  },
  {
   "cell_type": "code",
   "execution_count": null,
   "metadata": {},
   "outputs": [],
   "source": [
    "cat_one_model = CatBoostClassifier(iterations=200,\n",
    "                           depth=4,\n",
    "                           learning_rate=0.63,\n",
    "                           loss_function='Logloss',\n",
    "                           verbose=False)\n",
    "cat_one_model.fit(train_data, plot=True)"
   ]
  },
  {
   "cell_type": "markdown",
   "metadata": {},
   "source": [
    "Метрики для малой тестовой выборки"
   ]
  },
  {
   "cell_type": "code",
   "execution_count": null,
   "metadata": {},
   "outputs": [],
   "source": [
    "roc_auc_score(y_test, cat_one_model.predict_proba(X_test)[:,1])"
   ]
  },
  {
   "cell_type": "code",
   "execution_count": null,
   "metadata": {},
   "outputs": [],
   "source": [
    "accuracy_score(y_test, cat_one_model.predict(X_test))"
   ]
  },
  {
   "cell_type": "markdown",
   "metadata": {},
   "source": [
    "Метрики для большой тестовой выборки"
   ]
  },
  {
   "cell_type": "code",
   "execution_count": null,
   "metadata": {},
   "outputs": [],
   "source": [
    "roc_auc_score(y_d, cat_one_model.predict_proba(X_not_d)[:,1])"
   ]
  },
  {
   "cell_type": "code",
   "execution_count": null,
   "metadata": {
    "scrolled": true
   },
   "outputs": [],
   "source": [
    "accuracy_score(y_d, cat_one_model.predict(X_not_d))"
   ]
  },
  {
   "cell_type": "code",
   "execution_count": null,
   "metadata": {},
   "outputs": [],
   "source": [
    "explainer = shap.TreeExplainer(cat_one_model)\n",
    "shap_values = explainer.shap_values(X_train)\n",
    "shap.summary_plot(shap_values, X_train)"
   ]
  },
  {
   "cell_type": "markdown",
   "metadata": {},
   "source": [
    "## LGBM"
   ]
  },
  {
   "cell_type": "code",
   "execution_count": null,
   "metadata": {},
   "outputs": [],
   "source": [
    "import lightgbm as lgb\n",
    "import warnings\n",
    "warnings.filterwarnings('ignore')"
   ]
  },
  {
   "cell_type": "markdown",
   "metadata": {},
   "source": [
    "### With categorial feature"
   ]
  },
  {
   "cell_type": "code",
   "execution_count": null,
   "metadata": {},
   "outputs": [],
   "source": [
    "cat_feat=['Timestamp']\n",
    "for col in cat_feat:\n",
    "            X[col] = X[col].astype('category')\n",
    "X_train, X_test, y_train, y_test = train_test_split(X, y, test_size=0.3, random_state=42)"
   ]
  },
  {
   "cell_type": "code",
   "execution_count": null,
   "metadata": {},
   "outputs": [],
   "source": [
    "train = lgb.Dataset(X_train,label=y_train,categorical_feature=cat_feat,free_raw_data=False)\n",
    "test = lgb.Dataset(X_test, label=y_test,reference=train,categorical_feature=cat_feat,free_raw_data=False)"
   ]
  },
  {
   "cell_type": "code",
   "execution_count": null,
   "metadata": {},
   "outputs": [],
   "source": [
    "def set_parametrs():\n",
    "    param_ = {}\n",
    "    param_['boosting_type']='gbdt'\n",
    "    param_['objective']='binary'\n",
    "    param_['metric']='binary_logloss'\n",
    "    param_['learning_rate']=0.1\n",
    "    param_['num_threads'] = -1\n",
    "    param_['max_depth'] = 3\n",
    "    param_['verbose'] = -1\n",
    "    param_['num_leaves'] = 32\n",
    "    return param_"
   ]
  },
  {
   "cell_type": "code",
   "execution_count": null,
   "metadata": {},
   "outputs": [],
   "source": [
    "parametrs = set_parametrs()"
   ]
  },
  {
   "cell_type": "code",
   "execution_count": null,
   "metadata": {},
   "outputs": [],
   "source": [
    "n_est = np.arange(20, 150, 10)\n",
    "tr_roc_auc.clear()\n",
    "test_roc_auc.clear()\n",
    "\n",
    "for n in n_est:\n",
    "    clf=lgb.train(parametrs,train,n,valid_sets=test,verbose_eval=False)\n",
    "    tr_roc_auc.append(roc_auc_score(y_train,clf.predict(X_train)))\n",
    "    test_roc_auc.append(roc_auc_score(y_test, clf.predict(X_test)))\n",
    "    \n",
    "plot_auc_array(n_est,tr_roc_auc,test_roc_auc)"
   ]
  },
  {
   "cell_type": "code",
   "execution_count": null,
   "metadata": {},
   "outputs": [],
   "source": [
    "tr_roc_auc.clear()\n",
    "test_roc_auc.clear()\n",
    "l_r = np.linspace(0.01, 1, 100)\n",
    "for l in l_r: \n",
    "    parametrs['learning_rate']=l\n",
    "    clf=lgb.train(parametrs,train,80,valid_sets=test,verbose_eval=False)\n",
    "    tr_roc_auc.append(roc_auc_score(y_train,clf.predict(X_train)))\n",
    "    test_roc_auc.append(roc_auc_score(y_test, clf.predict(X_test)))\n",
    "    \n",
    "plot_auc_array(l_r,tr_roc_auc,test_roc_auc)"
   ]
  },
  {
   "cell_type": "code",
   "execution_count": null,
   "metadata": {},
   "outputs": [],
   "source": [
    "test_roc_auc.clear()\n",
    "tr_roc_auc.clear()\n",
    "depth = np.arange(1, 10, 1)\n",
    "\n",
    "parametrs['learning_rate']=0.6\n",
    "for d in depth: \n",
    "    parametrs['max_depth'] = d\n",
    "    parametrs['num_leaves'] = 2**d\n",
    "    clf=lgb.train(parametrs,train,50,valid_sets=test,verbose_eval=False)\n",
    "    tr_roc_auc.append(roc_auc_score(y_train,clf.predict(X_train)))\n",
    "    test_roc_auc.append(roc_auc_score(y_test, clf.predict(X_test)))\n",
    "plot_auc_array(depth,tr_roc_auc,test_roc_auc)"
   ]
  },
  {
   "cell_type": "code",
   "execution_count": null,
   "metadata": {},
   "outputs": [],
   "source": [
    "parametrs['max_depth'] = 3\n",
    "parametrs['num_leaves'] = 2**d\n",
    "lgbm_all_model=lgb.train(parametrs,train,75,valid_sets=test,verbose_eval=False)"
   ]
  },
  {
   "cell_type": "markdown",
   "metadata": {},
   "source": [
    "Метрики для малой тестовой выборки"
   ]
  },
  {
   "cell_type": "code",
   "execution_count": null,
   "metadata": {},
   "outputs": [],
   "source": [
    "roc_auc_score(y_test, lgbm_all_model.predict(X_test))"
   ]
  },
  {
   "cell_type": "code",
   "execution_count": null,
   "metadata": {},
   "outputs": [],
   "source": [
    "accuracy_score(y_test, lgbm_all_model.predict(X_test).round(0))"
   ]
  },
  {
   "cell_type": "markdown",
   "metadata": {},
   "source": [
    "Метрики для большой тестовой выборки"
   ]
  },
  {
   "cell_type": "code",
   "execution_count": null,
   "metadata": {},
   "outputs": [],
   "source": [
    "for col in cat_feat:\n",
    "    X_d[col] = X_d[col].astype('category')"
   ]
  },
  {
   "cell_type": "code",
   "execution_count": null,
   "metadata": {},
   "outputs": [],
   "source": [
    "roc_auc_score(y_d, lgbm_all_model.predict(X_d))"
   ]
  },
  {
   "cell_type": "code",
   "execution_count": null,
   "metadata": {},
   "outputs": [],
   "source": [
    "accuracy_score(y_d, lgbm_all_model.predict(X_d).round(0))"
   ]
  },
  {
   "cell_type": "code",
   "execution_count": null,
   "metadata": {},
   "outputs": [],
   "source": [
    "explainer = shap.TreeExplainer(lgbm_all_model)\n",
    "shap_values = explainer.shap_values(X_train)\n",
    "shap.summary_plot(shap_values, X_train)"
   ]
  },
  {
   "cell_type": "markdown",
   "metadata": {},
   "source": [
    "### Without categorial feature"
   ]
  },
  {
   "cell_type": "code",
   "execution_count": null,
   "metadata": {},
   "outputs": [],
   "source": [
    "X_train, X_test, y_train, y_test = train_test_split(X_not, y, test_size=0.3, random_state=42)"
   ]
  },
  {
   "cell_type": "code",
   "execution_count": null,
   "metadata": {},
   "outputs": [],
   "source": [
    "train = lgb.Dataset(X_train,label=y_train,free_raw_data=False)\n",
    "test = lgb.Dataset(X_test, label=y_test,reference=train,free_raw_data=False)"
   ]
  },
  {
   "cell_type": "code",
   "execution_count": null,
   "metadata": {},
   "outputs": [],
   "source": [
    "n_est = np.arange(20, 150, 10)\n",
    "tr_roc_auc.clear()\n",
    "test_roc_auc.clear()\n",
    "\n",
    "for n in n_est:\n",
    "    clf=lgb.train(parametrs,train,n,valid_sets=test,verbose_eval=False)\n",
    "    tr_roc_auc.append(roc_auc_score(y_train,clf.predict(X_train)))\n",
    "    test_roc_auc.append(roc_auc_score(y_test, clf.predict(X_test)))\n",
    "    \n",
    "plot_auc_array(n_est,tr_roc_auc,test_roc_auc)\n"
   ]
  },
  {
   "cell_type": "code",
   "execution_count": null,
   "metadata": {},
   "outputs": [],
   "source": [
    "tr_roc_auc.clear()\n",
    "test_roc_auc.clear()\n",
    "l_r = np.linspace(0.01, 1, 100)\n",
    "for l in l_r: \n",
    "    parametrs['learning_rate']=l\n",
    "    clf=lgb.train(parametrs,train,100,valid_sets=test,verbose_eval=False)\n",
    "    tr_roc_auc.append(roc_auc_score(y_train,clf.predict(X_train)))\n",
    "    test_roc_auc.append(roc_auc_score(y_test, clf.predict(X_test)))\n",
    "    \n",
    "plot_auc_array(l_r,tr_roc_auc,test_roc_auc)"
   ]
  },
  {
   "cell_type": "code",
   "execution_count": null,
   "metadata": {},
   "outputs": [],
   "source": [
    "test_roc_auc.clear()\n",
    "tr_roc_auc.clear()\n",
    "depth = np.arange(1, 10, 1)\n",
    "\n",
    "parametrs['learning_rate']=0.6\n",
    "for d in depth: \n",
    "    parametrs['max_depth'] = d\n",
    "    parametrs['num_leaves'] = 2**d\n",
    "    clf=lgb.train(parametrs,train,50,valid_sets=test,verbose_eval=False)\n",
    "    tr_roc_auc.append(roc_auc_score(y_train,clf.predict(X_train)))\n",
    "    test_roc_auc.append(roc_auc_score(y_test, clf.predict(X_test)))\n",
    "    \n",
    "plot_auc_array(depth,tr_roc_auc,test_roc_auc)"
   ]
  },
  {
   "cell_type": "code",
   "execution_count": null,
   "metadata": {},
   "outputs": [],
   "source": [
    "parametrs['max_depth'] = 3\n",
    "parametrs['num_leaves'] = 2**d\n",
    "lgbm_one_model=lgb.train(parametrs,train,100,valid_sets=test,verbose_eval=False)"
   ]
  },
  {
   "cell_type": "markdown",
   "metadata": {},
   "source": [
    "Метрики для малой тестовой выборки"
   ]
  },
  {
   "cell_type": "code",
   "execution_count": null,
   "metadata": {},
   "outputs": [],
   "source": [
    "roc_auc_score(y_test, lgbm_one_model.predict(X_test))"
   ]
  },
  {
   "cell_type": "code",
   "execution_count": null,
   "metadata": {},
   "outputs": [],
   "source": [
    "accuracy_score(y_test, lgbm_one_model.predict(X_test).round(0))"
   ]
  },
  {
   "cell_type": "markdown",
   "metadata": {},
   "source": [
    "Метрики для большой тестовой выборки"
   ]
  },
  {
   "cell_type": "code",
   "execution_count": null,
   "metadata": {},
   "outputs": [],
   "source": [
    "roc_auc_score(y_d, lgbm_one_model.predict(X_not_d))"
   ]
  },
  {
   "cell_type": "code",
   "execution_count": null,
   "metadata": {},
   "outputs": [],
   "source": [
    "accuracy_score(y_d, lgbm_one_model.predict(X_not_d).round(0))"
   ]
  },
  {
   "cell_type": "code",
   "execution_count": null,
   "metadata": {},
   "outputs": [],
   "source": [
    "explainer = shap.TreeExplainer(lgbm_one_model)\n",
    "shap_values = explainer.shap_values(X_train)\n",
    "shap.summary_plot(shap_values, X_train)"
   ]
  }
 ],
 "metadata": {
  "kernelspec": {
   "display_name": "Python 3",
   "language": "python",
   "name": "python3"
  },
  "language_info": {
   "codemirror_mode": {
    "name": "ipython",
    "version": 3
   },
   "file_extension": ".py",
   "mimetype": "text/x-python",
   "name": "python",
   "nbconvert_exporter": "python",
   "pygments_lexer": "ipython3",
   "version": "3.8.6"
  }
 },
 "nbformat": 4,
 "nbformat_minor": 4
}
